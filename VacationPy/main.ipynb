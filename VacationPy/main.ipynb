{
 "cells": [
  {
   "cell_type": "code",
   "execution_count": null,
   "id": "d0de22cc",
   "metadata": {},
   "outputs": [],
   "source": [
    "#import dependencies\n",
    "#import api key from file\n",
    "#import jupyter-gmaps"
   ]
  },
  {
   "cell_type": "code",
   "execution_count": null,
   "id": "c355307a",
   "metadata": {},
   "outputs": [],
   "source": [
    "# read in WeatherPy CSV file"
   ]
  },
  {
   "cell_type": "code",
   "execution_count": null,
   "id": "b79a2da5",
   "metadata": {},
   "outputs": [],
   "source": [
    "# plot heatmap of city humidity on google maps"
   ]
  },
  {
   "cell_type": "code",
   "execution_count": null,
   "id": "e3c17d02",
   "metadata": {},
   "outputs": [],
   "source": [
    "# filter city data to find cities with ideal weather conditions "
   ]
  },
  {
   "cell_type": "code",
   "execution_count": null,
   "id": "78afda5c",
   "metadata": {},
   "outputs": [],
   "source": [
    "#for each city in citylist\n",
    "    # Call google places API to find the first hotel result within 5000 meters of each city\n",
    "    #save hotel name, city, and country data to an existing list or dictionary\n"
   ]
  },
  {
   "cell_type": "code",
   "execution_count": null,
   "id": "4d3cf2bf",
   "metadata": {},
   "outputs": [],
   "source": [
    "#plot these hotels on the humidity heatmap with pins containing hotel name, city, and country"
   ]
  }
 ],
 "metadata": {
  "kernelspec": {
   "display_name": "Python 3",
   "language": "python",
   "name": "python3"
  },
  "language_info": {
   "codemirror_mode": {
    "name": "ipython",
    "version": 3
   },
   "file_extension": ".py",
   "mimetype": "text/x-python",
   "name": "python",
   "nbconvert_exporter": "python",
   "pygments_lexer": "ipython3",
   "version": "3.8.8"
  }
 },
 "nbformat": 4,
 "nbformat_minor": 5
}
