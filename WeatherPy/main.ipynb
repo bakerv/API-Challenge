{
 "cells": [
  {
   "cell_type": "code",
   "execution_count": null,
   "id": "9d122ccf",
   "metadata": {},
   "outputs": [],
   "source": [
    "# import dependencies\n",
    "# import API key from file"
   ]
  },
  {
   "cell_type": "code",
   "execution_count": null,
   "id": "5ccf8b7d",
   "metadata": {},
   "outputs": [],
   "source": [
    "# generate a list 500 random coordinate pairs that are well distributed across the coordinate range\n",
    "# import citipy, create a list of cities from the random coordinate pairs"
   ]
  },
  {
   "cell_type": "code",
   "execution_count": null,
   "id": "155eaaf6",
   "metadata": {},
   "outputs": [],
   "source": [
    "#set up loop for each city in citylist\n",
    "    # make an api call to openweathermap's API\n",
    "    # return lat, long, temperatureF cloudiness%, Humidity%, windspeedmph\n",
    "    #apendd data for each city to an existing list\n",
    "    #print city name and number to a log file\n",
    "\n",
    "#save data to a csv file"
   ]
  },
  {
   "cell_type": "code",
   "execution_count": null,
   "id": "7443ef7c",
   "metadata": {},
   "outputs": [],
   "source": [
    "\n",
    "#for each variable in list\n",
    "    #plot scatter plot vs latitude\n",
    "    #export each plot to a png file\n",
    "    #if lat >o\n",
    "        # plot all possible scatter plots on new plots\n",
    "        #run linear regression for each plot\n",
    "        #add regression results to the plot\n",
    "        #export plot to png file\n",
    "    #else\n",
    "        #do the same as above on separate plots\n",
    "        "
   ]
  }
 ],
 "metadata": {
  "kernelspec": {
   "display_name": "Python 3",
   "language": "python",
   "name": "python3"
  },
  "language_info": {
   "codemirror_mode": {
    "name": "ipython",
    "version": 3
   },
   "file_extension": ".py",
   "mimetype": "text/x-python",
   "name": "python",
   "nbconvert_exporter": "python",
   "pygments_lexer": "ipython3",
   "version": "3.8.8"
  }
 },
 "nbformat": 4,
 "nbformat_minor": 5
}
