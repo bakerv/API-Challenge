{
 "cells": [
  {
   "cell_type": "code",
   "execution_count": 17,
   "id": "d3c81838",
   "metadata": {},
   "outputs": [],
   "source": [
    "# import dependencies\n",
    "import pandas as pd\n",
    "from random import sample\n",
    "from citipy import citipy\n",
    "import numpy as np\n",
    "import requests\n",
    "from pprint import pprint\n",
    "from apikey import weatherkey\n",
    "# import API key from file"
   ]
  },
  {
   "cell_type": "code",
   "execution_count": 18,
   "id": "1053131d",
   "metadata": {},
   "outputs": [],
   "source": [
    "# generate a list 500 random coordinate pairs that are well distributed across the coordinate range\n",
    "longitudes = []\n",
    "latitudes = []\n",
    "longitudes = np.array(sample(range(-18000,18001),k=1500))/100\n",
    "latitudes = np.array(sample(range(-9000,9001),k=1500))/100"
   ]
  },
  {
   "cell_type": "code",
   "execution_count": 19,
   "id": "8feedab6",
   "metadata": {},
   "outputs": [
    {
     "data": {
      "text/plain": [
       "<zip at 0x227aacf54c0>"
      ]
     },
     "metadata": {},
     "output_type": "display_data"
    },
    {
     "data": {
      "text/plain": [
       "1500"
      ]
     },
     "metadata": {},
     "output_type": "display_data"
    },
    {
     "data": {
      "text/plain": [
       "1500"
      ]
     },
     "metadata": {},
     "output_type": "display_data"
    }
   ],
   "source": [
    "coordinates = zip(latitudes,longitudes)\n",
    "display(coordinates)\n",
    "display(len(latitudes))\n",
    "display(len(longitudes))"
   ]
  },
  {
   "cell_type": "code",
   "execution_count": 20,
   "id": "a032a6ca",
   "metadata": {},
   "outputs": [],
   "source": [
    "# import citipy, create a list of cities from the random coordinate pairs\n",
    "citylist = []\n",
    "\n",
    "for entry in coordinates:\n",
    "    cityname = citipy.nearest_city(entry[0],entry[1]).city_name\n",
    "    if cityname not in citylist:\n",
    "        citylist.append(cityname)\n",
    "   # print(citylist)\n",
    "    #coordinates[\"Nearest City\"] = citipy.nearest_city(coordinates['latitudes'],coordinates['longitudes']).city_name"
   ]
  },
  {
   "cell_type": "code",
   "execution_count": null,
   "id": "abadb542",
   "metadata": {},
   "outputs": [],
   "source": [
    "#display(citylist)"
   ]
  },
  {
   "cell_type": "code",
   "execution_count": null,
   "id": "ebdf51ca",
   "metadata": {},
   "outputs": [],
   "source": []
  },
  {
   "cell_type": "code",
   "execution_count": 31,
   "id": "98f0e206",
   "metadata": {},
   "outputs": [],
   "source": [
    "#set up loop for each city in citylist\n",
    "    # make an api call to openweathermap's API\n",
    "baseurl = \"https://api.openweathermap.org/data/2.5/weather?\"\n",
    "query = f\"{baseurl}appid={weatherkey}&units=imperial&q={citylist[200]}\"\n",
    "\n",
    "response = requests.get(query).json()"
   ]
  },
  {
   "cell_type": "code",
   "execution_count": 40,
   "id": "1f0617c5",
   "metadata": {},
   "outputs": [
    {
     "name": "stdout",
     "output_type": "stream",
     "text": [
      "{'base': 'stations',\n",
      " 'clouds': {'all': 94},\n",
      " 'cod': 200,\n",
      " 'coord': {'lat': 71.6872, 'lon': 128.8694},\n",
      " 'dt': 1619632720,\n",
      " 'id': 2015306,\n",
      " 'main': {'feels_like': 10.8,\n",
      "          'grnd_level': 1012,\n",
      "          'humidity': 94,\n",
      "          'pressure': 1017,\n",
      "          'sea_level': 1017,\n",
      "          'temp': 20.34,\n",
      "          'temp_max': 20.34,\n",
      "          'temp_min': 20.34},\n",
      " 'name': 'Tiksi',\n",
      " 'sys': {'country': 'RU', 'sunrise': 1619631581, 'sunset': 1619701433},\n",
      " 'timezone': 32400,\n",
      " 'visibility': 10000,\n",
      " 'weather': [{'description': 'overcast clouds',\n",
      "              'icon': '04d',\n",
      "              'id': 804,\n",
      "              'main': 'Clouds'}],\n",
      " 'wind': {'deg': 232, 'gust': 8.37, 'speed': 7.81}}\n",
      "71.6872\n"
     ]
    },
    {
     "ename": "NameError",
     "evalue": "name 'append_value' is not defined",
     "output_type": "error",
     "traceback": [
      "\u001b[1;31m---------------------------------------------------------------------------\u001b[0m",
      "\u001b[1;31mNameError\u001b[0m                                 Traceback (most recent call last)",
      "\u001b[1;32m<ipython-input-40-6c5507b40d08>\u001b[0m in \u001b[0;36m<module>\u001b[1;34m\u001b[0m\n\u001b[0;32m      2\u001b[0m \u001b[0mpprint\u001b[0m\u001b[1;33m(\u001b[0m\u001b[0mresponse\u001b[0m\u001b[1;33m)\u001b[0m\u001b[1;33m\u001b[0m\u001b[1;33m\u001b[0m\u001b[0m\n\u001b[0;32m      3\u001b[0m \u001b[0mpprint\u001b[0m\u001b[1;33m(\u001b[0m\u001b[0mresponse\u001b[0m\u001b[1;33m[\u001b[0m\u001b[1;34m\"coord\"\u001b[0m\u001b[1;33m]\u001b[0m\u001b[1;33m[\u001b[0m\u001b[1;34m'lat'\u001b[0m\u001b[1;33m]\u001b[0m\u001b[1;33m)\u001b[0m\u001b[1;33m\u001b[0m\u001b[1;33m\u001b[0m\u001b[0m\n\u001b[1;32m----> 4\u001b[1;33m \u001b[0mappend_value\u001b[0m\u001b[1;33m(\u001b[0m\u001b[0mcitydata\u001b[0m\u001b[1;33m,\u001b[0m \u001b[1;33m{\u001b[0m\u001b[1;34m\"City Name\"\u001b[0m\u001b[1;33m:\u001b[0m\u001b[0mresponse\u001b[0m\u001b[1;33m[\u001b[0m\u001b[1;34m\"coord\"\u001b[0m\u001b[1;33m]\u001b[0m\u001b[1;33m[\u001b[0m\u001b[1;34m'lat'\u001b[0m\u001b[1;33m]\u001b[0m\u001b[1;33m}\u001b[0m\u001b[1;33m)\u001b[0m\u001b[1;33m\u001b[0m\u001b[1;33m\u001b[0m\u001b[0m\n\u001b[0m\u001b[0;32m      5\u001b[0m \u001b[0mcitynames\u001b[0m \u001b[1;33m=\u001b[0m\u001b[0mresponse\u001b[0m\u001b[1;33m[\u001b[0m\u001b[1;34m\"coord\"\u001b[0m\u001b[1;33m]\u001b[0m\u001b[1;33m[\u001b[0m\u001b[1;34m'lat'\u001b[0m\u001b[1;33m]\u001b[0m\u001b[1;33m\u001b[0m\u001b[1;33m\u001b[0m\u001b[0m\n\u001b[0;32m      6\u001b[0m \u001b[0mcitylats\u001b[0m \u001b[1;33m=\u001b[0m \u001b[0mresponse\u001b[0m\u001b[1;33m[\u001b[0m\u001b[1;34m\"coord\"\u001b[0m\u001b[1;33m]\u001b[0m\u001b[1;33m[\u001b[0m\u001b[1;34m'lat'\u001b[0m\u001b[1;33m]\u001b[0m\u001b[1;33m\u001b[0m\u001b[1;33m\u001b[0m\u001b[0m\n",
      "\u001b[1;31mNameError\u001b[0m: name 'append_value' is not defined"
     ]
    }
   ],
   "source": [
    "citydata = {}\n",
    "pprint(response)\n",
    "pprint(response[\"coord\"]['lat'])\n",
    "append_value(citydata, {\"City Name\":response[\"coord\"]['lat']})\n",
    "citynames =response[\"coord\"]['lat']\n",
    "citylats = response[\"coord\"]['lat']\n",
    "#citylons = {\"City Name\":,\"Latitude\":response[\"coord\"]['lat'],\"Longitude\":response[\"coord\"]['lat']}\n",
    "    # return lat, long, temperatureF cloudiness%, Humidity%, windspeedmph\n",
    "    #apendd data for each city to an existing list\n",
    "    #print city name and number to a log file\n",
    "print(citydata)\n",
    "#save data to a csv file"
   ]
  },
  {
   "cell_type": "code",
   "execution_count": null,
   "id": "8e0c0f71",
   "metadata": {},
   "outputs": [],
   "source": [
    "\n",
    "#for each variable in list\n",
    "    #plot scatter plot vs latitude\n",
    "    #export each plot to a png file\n",
    "    #if lat >o\n",
    "        # plot all possible scatter plots on new plots\n",
    "        #run linear regression for each plot\n",
    "        #add regression results to the plot\n",
    "        #export plot to png file\n",
    "    #else\n",
    "        #do the same as above on separate plots\n",
    "        "
   ]
  }
 ],
 "metadata": {
  "kernelspec": {
   "display_name": "Python 3",
   "language": "python",
   "name": "python3"
  },
  "language_info": {
   "codemirror_mode": {
    "name": "ipython",
    "version": 3
   },
   "file_extension": ".py",
   "mimetype": "text/x-python",
   "name": "python",
   "nbconvert_exporter": "python",
   "pygments_lexer": "ipython3",
   "version": "3.8.8"
  }
 },
 "nbformat": 4,
 "nbformat_minor": 5
}
