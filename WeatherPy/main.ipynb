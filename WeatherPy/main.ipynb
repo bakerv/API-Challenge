{
 "cells": [
  {
   "cell_type": "code",
   "execution_count": 146,
   "id": "13d67c4b",
   "metadata": {},
   "outputs": [
    {
     "ename": "SyntaxError",
     "evalue": "unexpected character after line continuation character (<ipython-input-146-3472f86de95f>, line 8)",
     "output_type": "error",
     "traceback": [
      "\u001b[1;36m  File \u001b[1;32m\"<ipython-input-146-3472f86de95f>\"\u001b[1;36m, line \u001b[1;32m8\u001b[0m\n\u001b[1;33m    from ..\\\\apikey.py import weatherkey\u001b[0m\n\u001b[1;37m                                        ^\u001b[0m\n\u001b[1;31mSyntaxError\u001b[0m\u001b[1;31m:\u001b[0m unexpected character after line continuation character\n"
     ]
    }
   ],
   "source": [
    "# import dependencies\n",
    "import pandas as pd\n",
    "from random import sample\n",
    "from citipy import citipy\n",
    "import numpy as np\n",
    "import requests\n",
    "from pprint import pprint\n",
    "from ..\\\\apikey.py import weatherkey\n",
    "# import API key from file"
   ]
  },
  {
   "cell_type": "code",
   "execution_count": 140,
   "id": "b1f1aabd",
   "metadata": {},
   "outputs": [],
   "source": [
    "# generate a list 500 random coordinate pairs that are well distributed across the coordinate range\n",
    "longitudes = []\n",
    "latitudes = []\n",
    "longitudes = np.array(sample(range(-18000,18001),k=1500))/100\n",
    "latitudes = np.array(sample(range(-9000,9001),k=1500))/100"
   ]
  },
  {
   "cell_type": "code",
   "execution_count": 141,
   "id": "4c21e66b",
   "metadata": {},
   "outputs": [
    {
     "data": {
      "text/plain": [
       "<zip at 0x1aa16202200>"
      ]
     },
     "metadata": {},
     "output_type": "display_data"
    },
    {
     "data": {
      "text/plain": [
       "1500"
      ]
     },
     "metadata": {},
     "output_type": "display_data"
    },
    {
     "data": {
      "text/plain": [
       "1500"
      ]
     },
     "metadata": {},
     "output_type": "display_data"
    }
   ],
   "source": [
    "coordinates = zip(latitudes,longitudes)\n",
    "display(coordinates)\n",
    "display(len(latitudes))\n",
    "display(len(longitudes))"
   ]
  },
  {
   "cell_type": "code",
   "execution_count": 142,
   "id": "a879f5a1",
   "metadata": {},
   "outputs": [],
   "source": [
    "# import citipy, create a list of cities from the random coordinate pairs\n",
    "citylist = []\n",
    "for entry in coordinates:\n",
    "    cityname = citipy.nearest_city(entry[0],entry[1]).city_name\n",
    "    if cityname not in citylist:\n",
    "        citylist.append(cityname)\n",
    "   # print(citylist)\n",
    "    #coordinates[\"Nearest City\"] = citipy.nearest_city(coordinates['latitudes'],coordinates['longitudes']).city_name\n",
    "citylist = pd.DataFrame(citylist)"
   ]
  },
  {
   "cell_type": "code",
   "execution_count": 144,
   "id": "6af924fc",
   "metadata": {},
   "outputs": [
    {
     "data": {
      "text/plain": [
       "630"
      ]
     },
     "metadata": {},
     "output_type": "display_data"
    }
   ],
   "source": [
    "display(len(citylist))"
   ]
  },
  {
   "cell_type": "code",
   "execution_count": null,
   "id": "b26630b1",
   "metadata": {},
   "outputs": [],
   "source": []
  },
  {
   "cell_type": "code",
   "execution_count": 145,
   "id": "a461aa21",
   "metadata": {},
   "outputs": [
    {
     "ename": "NameError",
     "evalue": "name 'api_key' is not defined",
     "output_type": "error",
     "traceback": [
      "\u001b[1;31m---------------------------------------------------------------------------\u001b[0m",
      "\u001b[1;31mNameError\u001b[0m                                 Traceback (most recent call last)",
      "\u001b[1;32m<ipython-input-145-13d99bdd4a1a>\u001b[0m in \u001b[0;36m<module>\u001b[1;34m\u001b[0m\n\u001b[0;32m      2\u001b[0m     \u001b[1;31m# make an api call to openweathermap's API\u001b[0m\u001b[1;33m\u001b[0m\u001b[1;33m\u001b[0m\u001b[1;33m\u001b[0m\u001b[0m\n\u001b[0;32m      3\u001b[0m \u001b[0mbaseurl\u001b[0m \u001b[1;33m=\u001b[0m \u001b[1;34m\"https://api.openweathermap.org/data/2,5/weather?\"\u001b[0m\u001b[1;33m\u001b[0m\u001b[1;33m\u001b[0m\u001b[0m\n\u001b[1;32m----> 4\u001b[1;33m \u001b[0mquery\u001b[0m \u001b[1;33m=\u001b[0m \u001b[1;34mf\"{baseurl}appid={api_key}&units=imperial&q=Seattle\"\u001b[0m\u001b[1;33m\u001b[0m\u001b[1;33m\u001b[0m\u001b[0m\n\u001b[0m\u001b[0;32m      5\u001b[0m \u001b[1;33m\u001b[0m\u001b[0m\n\u001b[0;32m      6\u001b[0m \u001b[0mresponse\u001b[0m \u001b[1;33m=\u001b[0m \u001b[0mrequests\u001b[0m\u001b[1;33m.\u001b[0m\u001b[0mget\u001b[0m\u001b[1;33m(\u001b[0m\u001b[0mquery\u001b[0m\u001b[1;33m)\u001b[0m\u001b[1;33m.\u001b[0m\u001b[0mjson\u001b[0m\u001b[1;33m(\u001b[0m\u001b[1;33m)\u001b[0m\u001b[1;33m\u001b[0m\u001b[1;33m\u001b[0m\u001b[0m\n",
      "\u001b[1;31mNameError\u001b[0m: name 'api_key' is not defined"
     ]
    }
   ],
   "source": [
    "#set up loop for each city in citylist\n",
    "    # make an api call to openweathermap's API\n",
    "baseurl = \"https://api.openweathermap.org/data/2,5/weather?\"\n",
    "query = f\"{baseurl}appid={api_key}&units=imperial&q=Seattle\"\n",
    "\n",
    "response = requests.get(query).json()\n",
    "print(response)\n",
    "\n",
    "    # return lat, long, temperatureF cloudiness%, Humidity%, windspeedmph\n",
    "    #apendd data for each city to an existing list\n",
    "    #print city name and number to a log file\n",
    "\n",
    "#save data to a csv file"
   ]
  },
  {
   "cell_type": "code",
   "execution_count": null,
   "id": "24e5b9de",
   "metadata": {},
   "outputs": [],
   "source": [
    "\n",
    "#for each variable in list\n",
    "    #plot scatter plot vs latitude\n",
    "    #export each plot to a png file\n",
    "    #if lat >o\n",
    "        # plot all possible scatter plots on new plots\n",
    "        #run linear regression for each plot\n",
    "        #add regression results to the plot\n",
    "        #export plot to png file\n",
    "    #else\n",
    "        #do the same as above on separate plots\n",
    "        "
   ]
  }
 ],
 "metadata": {
  "kernelspec": {
   "display_name": "Python 3",
   "language": "python",
   "name": "python3"
  },
  "language_info": {
   "codemirror_mode": {
    "name": "ipython",
    "version": 3
   },
   "file_extension": ".py",
   "mimetype": "text/x-python",
   "name": "python",
   "nbconvert_exporter": "python",
   "pygments_lexer": "ipython3",
   "version": "3.8.8"
  }
 },
 "nbformat": 4,
 "nbformat_minor": 5
}
