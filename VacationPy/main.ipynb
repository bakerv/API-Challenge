{
 "cells": [
  {
   "cell_type": "code",
   "execution_count": null,
   "id": "647c5e15",
   "metadata": {},
   "outputs": [],
   "source": [
    "#import dependencies\n",
    "#import api key from file\n",
    "#import jupyter-gmaps"
   ]
  },
  {
   "cell_type": "code",
   "execution_count": null,
   "id": "f46030c4",
   "metadata": {},
   "outputs": [],
   "source": [
    "# read in WeatherPy CSV file"
   ]
  },
  {
   "cell_type": "code",
   "execution_count": null,
   "id": "a3ccf126",
   "metadata": {},
   "outputs": [],
   "source": [
    "# plot heatmap of city humidity on google maps"
   ]
  },
  {
   "cell_type": "code",
   "execution_count": null,
   "id": "70ffeda2",
   "metadata": {},
   "outputs": [],
   "source": [
    "# filter city data to find cities with ideal weather conditions "
   ]
  },
  {
   "cell_type": "code",
   "execution_count": null,
   "id": "22970cf5",
   "metadata": {},
   "outputs": [],
   "source": [
    "#for each city in citylist\n",
    "    # Call google places API to find the first hotel result within 5000 meters of each city\n",
    "    #save hotel name, city, and country data to an existing list or dictionary\n"
   ]
  },
  {
   "cell_type": "code",
   "execution_count": null,
   "id": "044aad30",
   "metadata": {},
   "outputs": [],
   "source": [
    "#plot these hotels on the humidity heatmap with pins containing hotel name, city, and country"
   ]
  }
 ],
 "metadata": {
  "kernelspec": {
   "display_name": "Python 3",
   "language": "python",
   "name": "python3"
  },
  "language_info": {
   "codemirror_mode": {
    "name": "ipython",
    "version": 3
   },
   "file_extension": ".py",
   "mimetype": "text/x-python",
   "name": "python",
   "nbconvert_exporter": "python",
   "pygments_lexer": "ipython3",
   "version": "3.8.8"
  }
 },
 "nbformat": 4,
 "nbformat_minor": 5
}
